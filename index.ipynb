{
  "cells": [
    {
      "cell_type": "raw",
      "metadata": {},
      "source": [
        "---\n",
        "title: Freedom Of Press Index\n",
        "execute:\n",
        "  echo: false\n",
        "---"
      ],
      "id": "63db3986"
    },
    {
      "cell_type": "markdown",
      "metadata": {},
      "source": [
        "Imagine being unable to speak freely, to spred information freely, to have your every action monitered. For countries that have a low Freedom Press Index, this is the reality that many journalists have to face. The importance of this index can not be refuted; it speaks to the freedom of speech that a country gives to its citizens as well as how transparent the government is with its citizens. \n"
      ],
      "id": "4243531b"
    },
    {
      "cell_type": "code",
      "metadata": {},
      "source": [
        "import pandas as pd\n",
        "import plotly.express as px\n",
        "\n",
        "# Create a DataFrame with the necessary columns for the map\n",
        "map_data = data[['Country', 'Score']]\n",
        "\n",
        "# Generate the interactive world map\n",
        "fig = px.choropleth(\n",
        "    map_data,\n",
        "    locations=\"Country\",\n",
        "    locationmode='country names',\n",
        "    color=\"Score\",\n",
        "    hover_name=\"Country\",\n",
        "    color_continuous_scale=px.colors.sequential.Plasma,\n",
        "    title=\"World Scores by Country\"\n",
        ")\n",
        "\n",
        "# Show the interactive map\n",
        "fig.show()"
      ],
      "id": "c9910cc6",
      "execution_count": null,
      "outputs": []
    }
  ],
  "metadata": {
    "kernelspec": {
      "display_name": "Python 3",
      "language": "python",
      "name": "python3"
    }
  },
  "nbformat": 4,
  "nbformat_minor": 5
}